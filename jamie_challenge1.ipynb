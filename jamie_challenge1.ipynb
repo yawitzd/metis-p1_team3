{
 "cells": [
  {
   "cell_type": "markdown",
   "metadata": {},
   "source": [
    "# Challenge 1:1"
   ]
  },
  {
   "cell_type": "code",
   "execution_count": 140,
   "metadata": {
    "collapsed": false
   },
   "outputs": [],
   "source": [
    "%matplotlib inline\n",
    "import pandas as pd\n",
    "from datetime import datetime\n",
    "import matplotlib.pyplot as plt\n",
    "\n",
    "mta = pd.read_csv('http://web.mta.info/developers/data/nyct/turnstile/turnstile_160109.txt',header=0)"
   ]
  },
  {
   "cell_type": "code",
   "execution_count": 141,
   "metadata": {
    "collapsed": false
   },
   "outputs": [
    {
     "data": {
      "text/html": [
       "<div>\n",
       "<table border=\"1\" class=\"dataframe\">\n",
       "  <thead>\n",
       "    <tr style=\"text-align: right;\">\n",
       "      <th></th>\n",
       "      <th>C/A</th>\n",
       "      <th>UNIT</th>\n",
       "      <th>SCP</th>\n",
       "      <th>STATION</th>\n",
       "      <th>LINENAME</th>\n",
       "      <th>DIVISION</th>\n",
       "      <th>DATE</th>\n",
       "      <th>TIME</th>\n",
       "      <th>DESC</th>\n",
       "      <th>ENTRIES</th>\n",
       "      <th>EXITS</th>\n",
       "      <th>key</th>\n",
       "    </tr>\n",
       "  </thead>\n",
       "  <tbody>\n",
       "    <tr>\n",
       "      <th>0</th>\n",
       "      <td>A002</td>\n",
       "      <td>R051</td>\n",
       "      <td>02-00-00</td>\n",
       "      <td>59 ST</td>\n",
       "      <td>NQR456</td>\n",
       "      <td>BMT</td>\n",
       "      <td>01/02/2016</td>\n",
       "      <td>03:00:00</td>\n",
       "      <td>REGULAR</td>\n",
       "      <td>5478180</td>\n",
       "      <td>1849152</td>\n",
       "      <td>(A002, R051, 02-00-00, 59 ST)</td>\n",
       "    </tr>\n",
       "    <tr>\n",
       "      <th>1</th>\n",
       "      <td>A002</td>\n",
       "      <td>R051</td>\n",
       "      <td>02-00-00</td>\n",
       "      <td>59 ST</td>\n",
       "      <td>NQR456</td>\n",
       "      <td>BMT</td>\n",
       "      <td>01/02/2016</td>\n",
       "      <td>07:00:00</td>\n",
       "      <td>REGULAR</td>\n",
       "      <td>5478183</td>\n",
       "      <td>1849161</td>\n",
       "      <td>(A002, R051, 02-00-00, 59 ST)</td>\n",
       "    </tr>\n",
       "    <tr>\n",
       "      <th>2</th>\n",
       "      <td>A002</td>\n",
       "      <td>R051</td>\n",
       "      <td>02-00-00</td>\n",
       "      <td>59 ST</td>\n",
       "      <td>NQR456</td>\n",
       "      <td>BMT</td>\n",
       "      <td>01/02/2016</td>\n",
       "      <td>11:00:00</td>\n",
       "      <td>REGULAR</td>\n",
       "      <td>5478262</td>\n",
       "      <td>1849240</td>\n",
       "      <td>(A002, R051, 02-00-00, 59 ST)</td>\n",
       "    </tr>\n",
       "    <tr>\n",
       "      <th>3</th>\n",
       "      <td>A002</td>\n",
       "      <td>R051</td>\n",
       "      <td>02-00-00</td>\n",
       "      <td>59 ST</td>\n",
       "      <td>NQR456</td>\n",
       "      <td>BMT</td>\n",
       "      <td>01/02/2016</td>\n",
       "      <td>15:00:00</td>\n",
       "      <td>REGULAR</td>\n",
       "      <td>5478519</td>\n",
       "      <td>1849340</td>\n",
       "      <td>(A002, R051, 02-00-00, 59 ST)</td>\n",
       "    </tr>\n",
       "    <tr>\n",
       "      <th>4</th>\n",
       "      <td>A002</td>\n",
       "      <td>R051</td>\n",
       "      <td>02-00-00</td>\n",
       "      <td>59 ST</td>\n",
       "      <td>NQR456</td>\n",
       "      <td>BMT</td>\n",
       "      <td>01/02/2016</td>\n",
       "      <td>19:00:00</td>\n",
       "      <td>REGULAR</td>\n",
       "      <td>5478940</td>\n",
       "      <td>1849403</td>\n",
       "      <td>(A002, R051, 02-00-00, 59 ST)</td>\n",
       "    </tr>\n",
       "  </tbody>\n",
       "</table>\n",
       "</div>"
      ],
      "text/plain": [
       "    C/A  UNIT       SCP STATION LINENAME DIVISION        DATE      TIME  \\\n",
       "0  A002  R051  02-00-00   59 ST   NQR456      BMT  01/02/2016  03:00:00   \n",
       "1  A002  R051  02-00-00   59 ST   NQR456      BMT  01/02/2016  07:00:00   \n",
       "2  A002  R051  02-00-00   59 ST   NQR456      BMT  01/02/2016  11:00:00   \n",
       "3  A002  R051  02-00-00   59 ST   NQR456      BMT  01/02/2016  15:00:00   \n",
       "4  A002  R051  02-00-00   59 ST   NQR456      BMT  01/02/2016  19:00:00   \n",
       "\n",
       "      DESC  ENTRIES  \\\n",
       "0  REGULAR  5478180   \n",
       "1  REGULAR  5478183   \n",
       "2  REGULAR  5478262   \n",
       "3  REGULAR  5478519   \n",
       "4  REGULAR  5478940   \n",
       "\n",
       "   EXITS                                                                 \\\n",
       "0                                            1849152                      \n",
       "1                                            1849161                      \n",
       "2                                            1849240                      \n",
       "3                                            1849340                      \n",
       "4                                            1849403                      \n",
       "\n",
       "                             key  \n",
       "0  (A002, R051, 02-00-00, 59 ST)  \n",
       "1  (A002, R051, 02-00-00, 59 ST)  \n",
       "2  (A002, R051, 02-00-00, 59 ST)  \n",
       "3  (A002, R051, 02-00-00, 59 ST)  \n",
       "4  (A002, R051, 02-00-00, 59 ST)  "
      ]
     },
     "execution_count": 141,
     "metadata": {},
     "output_type": "execute_result"
    }
   ],
   "source": [
    "mta['key'] = zip(mta['C/A'], mta['UNIT'], mta['SCP'], mta['STATION'])\n",
    "\n",
    "##dict.setdefault is a better alternative to an if:else for keys in dictionary\n",
    "\n",
    "mta.head()"
   ]
  },
  {
   "cell_type": "code",
   "execution_count": 142,
   "metadata": {
    "collapsed": false
   },
   "outputs": [],
   "source": [
    "mta.drop(['C/A', 'UNIT', 'SCP'], axis = 1, inplace = True)"
   ]
  },
  {
   "cell_type": "code",
   "execution_count": 143,
   "metadata": {
    "collapsed": false
   },
   "outputs": [
    {
     "data": {
      "text/html": [
       "<div>\n",
       "<table border=\"1\" class=\"dataframe\">\n",
       "  <thead>\n",
       "    <tr style=\"text-align: right;\">\n",
       "      <th></th>\n",
       "      <th>STATION</th>\n",
       "      <th>LINENAME</th>\n",
       "      <th>DIVISION</th>\n",
       "      <th>DATE</th>\n",
       "      <th>TIME</th>\n",
       "      <th>DESC</th>\n",
       "      <th>ENTRIES</th>\n",
       "      <th>EXITS</th>\n",
       "      <th>key</th>\n",
       "    </tr>\n",
       "  </thead>\n",
       "  <tbody>\n",
       "    <tr>\n",
       "      <th>0</th>\n",
       "      <td>59 ST</td>\n",
       "      <td>NQR456</td>\n",
       "      <td>BMT</td>\n",
       "      <td>01/02/2016</td>\n",
       "      <td>03:00:00</td>\n",
       "      <td>REGULAR</td>\n",
       "      <td>5478180</td>\n",
       "      <td>1849152</td>\n",
       "      <td>(A002, R051, 02-00-00, 59 ST)</td>\n",
       "    </tr>\n",
       "    <tr>\n",
       "      <th>1</th>\n",
       "      <td>59 ST</td>\n",
       "      <td>NQR456</td>\n",
       "      <td>BMT</td>\n",
       "      <td>01/02/2016</td>\n",
       "      <td>07:00:00</td>\n",
       "      <td>REGULAR</td>\n",
       "      <td>5478183</td>\n",
       "      <td>1849161</td>\n",
       "      <td>(A002, R051, 02-00-00, 59 ST)</td>\n",
       "    </tr>\n",
       "    <tr>\n",
       "      <th>2</th>\n",
       "      <td>59 ST</td>\n",
       "      <td>NQR456</td>\n",
       "      <td>BMT</td>\n",
       "      <td>01/02/2016</td>\n",
       "      <td>11:00:00</td>\n",
       "      <td>REGULAR</td>\n",
       "      <td>5478262</td>\n",
       "      <td>1849240</td>\n",
       "      <td>(A002, R051, 02-00-00, 59 ST)</td>\n",
       "    </tr>\n",
       "    <tr>\n",
       "      <th>3</th>\n",
       "      <td>59 ST</td>\n",
       "      <td>NQR456</td>\n",
       "      <td>BMT</td>\n",
       "      <td>01/02/2016</td>\n",
       "      <td>15:00:00</td>\n",
       "      <td>REGULAR</td>\n",
       "      <td>5478519</td>\n",
       "      <td>1849340</td>\n",
       "      <td>(A002, R051, 02-00-00, 59 ST)</td>\n",
       "    </tr>\n",
       "    <tr>\n",
       "      <th>4</th>\n",
       "      <td>59 ST</td>\n",
       "      <td>NQR456</td>\n",
       "      <td>BMT</td>\n",
       "      <td>01/02/2016</td>\n",
       "      <td>19:00:00</td>\n",
       "      <td>REGULAR</td>\n",
       "      <td>5478940</td>\n",
       "      <td>1849403</td>\n",
       "      <td>(A002, R051, 02-00-00, 59 ST)</td>\n",
       "    </tr>\n",
       "  </tbody>\n",
       "</table>\n",
       "</div>"
      ],
      "text/plain": [
       "  STATION LINENAME DIVISION        DATE      TIME     DESC  ENTRIES  \\\n",
       "0   59 ST   NQR456      BMT  01/02/2016  03:00:00  REGULAR  5478180   \n",
       "1   59 ST   NQR456      BMT  01/02/2016  07:00:00  REGULAR  5478183   \n",
       "2   59 ST   NQR456      BMT  01/02/2016  11:00:00  REGULAR  5478262   \n",
       "3   59 ST   NQR456      BMT  01/02/2016  15:00:00  REGULAR  5478519   \n",
       "4   59 ST   NQR456      BMT  01/02/2016  19:00:00  REGULAR  5478940   \n",
       "\n",
       "   EXITS                                                                 \\\n",
       "0                                            1849152                      \n",
       "1                                            1849161                      \n",
       "2                                            1849240                      \n",
       "3                                            1849340                      \n",
       "4                                            1849403                      \n",
       "\n",
       "                             key  \n",
       "0  (A002, R051, 02-00-00, 59 ST)  \n",
       "1  (A002, R051, 02-00-00, 59 ST)  \n",
       "2  (A002, R051, 02-00-00, 59 ST)  \n",
       "3  (A002, R051, 02-00-00, 59 ST)  \n",
       "4  (A002, R051, 02-00-00, 59 ST)  "
      ]
     },
     "execution_count": 143,
     "metadata": {},
     "output_type": "execute_result"
    }
   ],
   "source": [
    "mta.head()"
   ]
  },
  {
   "cell_type": "markdown",
   "metadata": {},
   "source": [
    "# Challenge 1:2"
   ]
  },
  {
   "cell_type": "code",
   "execution_count": 144,
   "metadata": {
    "collapsed": false
   },
   "outputs": [],
   "source": [
    "\n",
    "time_dict = dict()\n",
    "\n",
    "for index, row in mta.iterrows():\n",
    "    key = row['key']\n",
    "    time = pd.to_datetime(row['DATE'] + row['TIME'], format='%m/%d/%Y%H:%M:%S')\n",
    "    entries = row['ENTRIES']\n",
    "    if key in time_dict:\n",
    "        time_dict[key].append([time,entries])\n",
    "    else:\n",
    "        time_dict[key] = [[time, entries]]\n"
   ]
  },
  {
   "cell_type": "code",
   "execution_count": 162,
   "metadata": {
    "collapsed": false
   },
   "outputs": [],
   "source": [
    "station_time_dict = dict()\n",
    "\n",
    "for index, row in mta.iterrows():\n",
    "    key = row['STATION']\n",
    "    time = pd.to_datetime(row['DATE'] + row['TIME'], format='%m/%d/%Y%H:%M:%S')\n",
    "    entries = row['ENTRIES']\n",
    "    if key in station_time_dict:\n",
    "        station_time_dict[key].append([time,entries])\n",
    "    else:\n",
    "        station_time_dict[key] = [[time, entries]]\n",
    "    "
   ]
  },
  {
   "cell_type": "code",
   "execution_count": 163,
   "metadata": {
    "collapsed": false
   },
   "outputs": [
    {
     "data": {
      "text/plain": [
       "372"
      ]
     },
     "execution_count": 163,
     "metadata": {},
     "output_type": "execute_result"
    }
   ],
   "source": [
    "len(station_time_dict)"
   ]
  },
  {
   "cell_type": "code",
   "execution_count": null,
   "metadata": {
    "collapsed": false
   },
   "outputs": [],
   "source": [
    "datetime_count_times = {turnstile: [[rows[i][0],\n",
    "                                     rows[i+1][1] - rows[i][1],\n",
    "                                     rows[i+1][0] - rows[i][0]]\n",
    "                                    for i in range(len(rows)-1)]\n",
    "                        for turnstile, rows in time_dict.items()}"
   ]
  },
  {
   "cell_type": "code",
   "execution_count": 191,
   "metadata": {
    "collapsed": false
   },
   "outputs": [
    {
     "data": {
      "text/plain": [
       "'00-00-02'"
      ]
     },
     "execution_count": 191,
     "metadata": {},
     "output_type": "execute_result"
    }
   ],
   "source": [
    "datetime_count_times.keys()[1][-2]\n"
   ]
  },
  {
   "cell_type": "code",
   "execution_count": 187,
   "metadata": {
    "collapsed": false
   },
   "outputs": [
    {
     "data": {
      "text/plain": [
       "'00-00-00'"
      ]
     },
     "execution_count": 187,
     "metadata": {},
     "output_type": "execute_result"
    }
   ],
   "source": [
    "'''\n",
    "i = 0\n",
    "stations = dict()\n",
    "while i < len(datetime_count_times):\n",
    "    if datetime_count_times.keys()[i][-1] in stations:\n",
    "        stations[datetime_count_times[i][-1]].append([(datetime_count_times.keys()[i][-2],(max(entry)-min(entry))])\n",
    "    if datetime_count_times[i][-2]\n",
    "\n",
    "datetime_count_times.keys()[3424][-2]\n",
    "        '''"
   ]
  },
  {
   "cell_type": "code",
   "execution_count": null,
   "metadata": {
    "collapsed": true
   },
   "outputs": [],
   "source": [
    "for x in datetime_count_times\n",
    "    if station_id.keys()[i][-1] not in station:\n",
    "        station[station_id.keys()[i][-1]] = [station_id.keys()[i][-2], datetime_count_times()]\n",
    "    "
   ]
  },
  {
   "cell_type": "markdown",
   "metadata": {},
   "source": [
    "# Challenge 1:3"
   ]
  },
  {
   "cell_type": "code",
   "execution_count": 164,
   "metadata": {
    "collapsed": false
   },
   "outputs": [],
   "source": [
    "def entries_per_day_func(my_list):\n",
    "   ## Get unique values of dates\n",
    "   dates = [row[0].date() for row in my_list]\n",
    "   dates = set(dates)\n",
    "   \n",
    "   result = []\n",
    "   for date in dates:\n",
    "       entries = [x[1] for x in my_list if x[0].date() == date]\n",
    "       result.append((date, max(entries)-min(entries)))\n",
    "   return result\n"
   ]
  },
  {
   "cell_type": "code",
   "execution_count": 280,
   "metadata": {
    "collapsed": false
   },
   "outputs": [],
   "source": [
    "station_total = dict()\n",
    "for key, value in datetime_count_times.items():\n",
    "    if key[-1] in station_total:\n",
    "        station_total[key[-1]].append([key[-2], (entries_per_day_func(value))])\n",
    "    else:\n",
    "        station_total[key[-1]] = list([key[-2],entries_per_day_func(value)])"
   ]
  },
  {
   "cell_type": "code",
   "execution_count": 306,
   "metadata": {
    "collapsed": false
   },
   "outputs": [
    {
     "name": "stdout",
     "output_type": "stream",
     "text": [
      "352\n"
     ]
    }
   ],
   "source": [
    "station_total.values()[0]\n",
    "print sum([67,64,59,23,16,63,60])"
   ]
  },
  {
   "cell_type": "code",
   "execution_count": null,
   "metadata": {
    "collapsed": true
   },
   "outputs": [],
   "source": [
    "def time_series_graph(station):\n",
    "    if len(station) > 1:\n",
    "        for item in station:\n",
    "            plt.plot([t for t in item.keys()], [c for c in item.values()])\n",
    "    else:\n",
    "        plt.plot([t for t in station.items(), [c for c in station.values())"
   ]
  },
  {
   "cell_type": "code",
   "execution_count": 398,
   "metadata": {
    "collapsed": false
   },
   "outputs": [
    {
     "data": {
      "text/plain": [
       "29990"
      ]
     },
     "execution_count": 398,
     "metadata": {},
     "output_type": "execute_result"
    }
   ],
   "source": [
    "summed_dict['MARCY AV']"
   ]
  },
  {
   "cell_type": "markdown",
   "metadata": {},
   "source": [
    "# Challenge 1:4"
   ]
  },
  {
   "cell_type": "code",
   "execution_count": 165,
   "metadata": {
    "collapsed": true
   },
   "outputs": [],
   "source": [
    "##a function that takes one subunit of turnstiles at a station\n",
    "##and plots the weekly entry count\n",
    "\n",
    "def station_weekly(station_id):\n",
    "    entries_per_day = entries_per_day_func(station_id)\n",
    "    dates = []\n",
    "    entries = []\n",
    "    for x in sorted(entries_per_day):\n",
    "        dates.append(x[0])\n",
    "    for x in sorted(entries_per_day):\n",
    "        entries.append(x[-1])\n",
    "    \n",
    "    print zip(dates,entries)\n",
    "    plt.figure(figsize=(10,5))\n",
    "    plt.plot(dates,entries)"
   ]
  },
  {
   "cell_type": "code",
   "execution_count": 168,
   "metadata": {
    "collapsed": false
   },
   "outputs": [
    {
     "name": "stdout",
     "output_type": "stream",
     "text": [
      "[(datetime.date(2016, 1, 2), 563), (datetime.date(2016, 1, 3), 423), (datetime.date(2016, 1, 4), 837), (datetime.date(2016, 1, 5), 819), (datetime.date(2016, 1, 6), 926), (datetime.date(2016, 1, 7), 983), (datetime.date(2016, 1, 8), 982)]\n"
     ]
    },
    {
     "data": {
      "image/png": "[encoded data removed]",
      "text/plain": [
       "<matplotlib.figure.Figure at 0x1158c7ad0>"
      ]
     },
     "metadata": {},
     "output_type": "display_data"
    }
   ],
   "source": [
    "##testing the function out at my home subway stop\n",
    "\n",
    "station_weekly(datetime_count_times[('J013', 'R380', '00-00-00', 'GATES AV')])"
   ]
  },
  {
   "cell_type": "code",
   "execution_count": 401,
   "metadata": {
    "collapsed": false,
    "scrolled": true
   },
   "outputs": [
    {
     "name": "stdout",
     "output_type": "stream",
     "text": [
      "[(datetime.date(2016, 1, 2), 206), (datetime.date(2016, 1, 3), 186), (datetime.date(2016, 1, 4), 792), (datetime.date(2016, 1, 5), 705), (datetime.date(2016, 1, 6), 735), (datetime.date(2016, 1, 7), 706), (datetime.date(2016, 1, 8), 557)]\n"
     ]
    },
    {
     "data": {
      "image/png": "[encoded data removed]",
      "text/plain": [
       "<matplotlib.figure.Figure at 0x12b8851d0>"
      ]
     },
     "metadata": {},
     "output_type": "display_data"
    }
   ],
   "source": [
    "##testing the function at a busy subway station\n",
    "\n",
    "station_weekly(datetime_count_times[('R143', 'R032', '02-00-00', 'TIMES SQ-42 ST')])"
   ]
  },
  {
   "cell_type": "code",
   "execution_count": 402,
   "metadata": {
    "collapsed": false
   },
   "outputs": [
    {
     "name": "stdout",
     "output_type": "stream",
     "text": [
      "[(datetime.date(2016, 1, 2), 213), (datetime.date(2016, 1, 3), 190), (datetime.date(2016, 1, 4), 355), (datetime.date(2016, 1, 5), 383), (datetime.date(2016, 1, 6), 415), (datetime.date(2016, 1, 7), 397), (datetime.date(2016, 1, 8), 426)]\n"
     ]
    },
    {
     "data": {
      "image/png": "[encoded data removed]",
      "text/plain": [
       "<matplotlib.figure.Figure at 0x12b863350>"
      ]
     },
     "metadata": {},
     "output_type": "display_data"
    }
   ],
   "source": [
    "##testing the function at a very lonely station\n",
    "\n",
    "station_weekly(datetime_count_times[('N122', 'R439', '00-00-00', 'ROCKAWAY AV')])"
   ]
  },
  {
   "cell_type": "markdown",
   "metadata": {},
   "source": [
    "# Challenge 1:5"
   ]
  },
  {
   "cell_type": "code",
   "execution_count": 433,
   "metadata": {
    "collapsed": false
   },
   "outputs": [
    {
     "name": "stdout",
     "output_type": "stream",
     "text": [
      "CYPRESS AV [[(datetime.date(2016, 1, 4), 67), (datetime.date(2016, 1, 5), 64), (datetime.date(2016, 1, 8), 59), (datetime.date(2016, 1, 2), 23), (datetime.date(2016, 1, 3), 16), (datetime.date(2016, 1, 6), 63), (datetime.date(2016, 1, 7), 60)], [(datetime.date(2016, 1, 4), 359), (datetime.date(2016, 1, 5), 342), (datetime.date(2016, 1, 8), 332), (datetime.date(2016, 1, 2), 195), (datetime.date(2016, 1, 3), 128), (datetime.date(2016, 1, 6), 359), (datetime.date(2016, 1, 7), 337)], [(datetime.date(2016, 1, 4), 68), (datetime.date(2016, 1, 5), 59), (datetime.date(2016, 1, 8), 69), (datetime.date(2016, 1, 2), 20), (datetime.date(2016, 1, 3), 17), (datetime.date(2016, 1, 6), 59), (datetime.date(2016, 1, 7), 70)], [(datetime.date(2016, 1, 4), 229), (datetime.date(2016, 1, 5), 246), (datetime.date(2016, 1, 8), 267), (datetime.date(2016, 1, 2), 103), (datetime.date(2016, 1, 3), 97), (datetime.date(2016, 1, 6), 250), (datetime.date(2016, 1, 7), 266)], [(datetime.date(2016, 1, 4), 113), (datetime.date(2016, 1, 5), 132), (datetime.date(2016, 1, 8), 116), (datetime.date(2016, 1, 2), 51), (datetime.date(2016, 1, 3), 49), (datetime.date(2016, 1, 6), 132), (datetime.date(2016, 1, 7), 129)], [(datetime.date(2016, 1, 4), 223), (datetime.date(2016, 1, 5), 192), (datetime.date(2016, 1, 8), 215), (datetime.date(2016, 1, 2), 111), (datetime.date(2016, 1, 3), 68), (datetime.date(2016, 1, 6), 231), (datetime.date(2016, 1, 7), 251)]]\n",
      "5 AV/53 ST [[(datetime.date(2016, 1, 4), 702), (datetime.date(2016, 1, 5), 714), (datetime.date(2016, 1, 8), 635), (datetime.date(2016, 1, 2), 400), (datetime.date(2016, 1, 3), 293), (datetime.date(2016, 1, 6), 611), (datetime.date(2016, 1, 7), 618)], [(datetime.date(2016, 1, 4), 1606), (datetime.date(2016, 1, 5), 1767), (datetime.date(2016, 1, 8), 1378), (datetime.date(2016, 1, 2), 47), (datetime.date(2016, 1, 3), 0), (datetime.date(2016, 1, 6), 1701), (datetime.date(2016, 1, 7), 1605)], [(datetime.date(2016, 1, 4), 1104), (datetime.date(2016, 1, 5), 1245), (datetime.date(2016, 1, 8), 1023), (datetime.date(2016, 1, 2), 323), (datetime.date(2016, 1, 3), 238), (datetime.date(2016, 1, 6), 1095), (datetime.date(2016, 1, 7), 1029)], [(datetime.date(2016, 1, 4), 455), (datetime.date(2016, 1, 5), 496), (datetime.date(2016, 1, 8), 417), (datetime.date(2016, 1, 2), 277), (datetime.date(2016, 1, 3), 172), (datetime.date(2016, 1, 6), 419), (datetime.date(2016, 1, 7), 425)], [(datetime.date(2016, 1, 4), 253), (datetime.date(2016, 1, 5), 261), (datetime.date(2016, 1, 8), 235), (datetime.date(2016, 1, 2), 178), (datetime.date(2016, 1, 3), 90), (datetime.date(2016, 1, 6), 219), (datetime.date(2016, 1, 7), 187)], [(datetime.date(2016, 1, 4), 1330), (datetime.date(2016, 1, 5), 1183), (datetime.date(2016, 1, 8), 956), (datetime.date(2016, 1, 2), 50), (datetime.date(2016, 1, 3), 0), (datetime.date(2016, 1, 6), 1072), (datetime.date(2016, 1, 7), 1146)], [(datetime.date(2016, 1, 4), 685), (datetime.date(2016, 1, 5), 758), (datetime.date(2016, 1, 8), 653), (datetime.date(2016, 1, 2), 252), (datetime.date(2016, 1, 3), 145), (datetime.date(2016, 1, 6), 679), (datetime.date(2016, 1, 7), 607)], [(datetime.date(2016, 1, 4), 1273), (datetime.date(2016, 1, 5), 1373), (datetime.date(2016, 1, 8), 1234), (datetime.date(2016, 1, 2), 410), (datetime.date(2016, 1, 3), 318), (datetime.date(2016, 1, 6), 1344), (datetime.date(2016, 1, 7), 1309)], [(datetime.date(2016, 1, 4), 698), (datetime.date(2016, 1, 5), 685), (datetime.date(2016, 1, 8), 623), (datetime.date(2016, 1, 2), 371), (datetime.date(2016, 1, 3), 241), (datetime.date(2016, 1, 6), 621), (datetime.date(2016, 1, 7), 567)], [(datetime.date(2016, 1, 4), 648), (datetime.date(2016, 1, 5), 731), (datetime.date(2016, 1, 8), 519), (datetime.date(2016, 1, 2), 17), (datetime.date(2016, 1, 3), 0), (datetime.date(2016, 1, 6), 650), (datetime.date(2016, 1, 7), 623)], [(datetime.date(2016, 1, 4), 699), (datetime.date(2016, 1, 5), 708), (datetime.date(2016, 1, 8), 648), (datetime.date(2016, 1, 2), 402), (datetime.date(2016, 1, 3), 286), (datetime.date(2016, 1, 6), 640), (datetime.date(2016, 1, 7), 588)], [(datetime.date(2016, 1, 4), 1382), (datetime.date(2016, 1, 5), 1476), (datetime.date(2016, 1, 8), 1174), (datetime.date(2016, 1, 2), 19), (datetime.date(2016, 1, 3), 0), (datetime.date(2016, 1, 6), 1463), (datetime.date(2016, 1, 7), 1336)], [(datetime.date(2016, 1, 4), 186), (datetime.date(2016, 1, 5), 214), (datetime.date(2016, 1, 8), 185), (datetime.date(2016, 1, 2), 8), (datetime.date(2016, 1, 3), 0), (datetime.date(2016, 1, 6), 180), (datetime.date(2016, 1, 7), 143)], [(datetime.date(2016, 1, 4), 604), (datetime.date(2016, 1, 5), 636), (datetime.date(2016, 1, 8), 537), (datetime.date(2016, 1, 2), 330), (datetime.date(2016, 1, 3), 241), (datetime.date(2016, 1, 6), 537), (datetime.date(2016, 1, 7), 593)], [(datetime.date(2016, 1, 4), 1155), (datetime.date(2016, 1, 5), 1218), (datetime.date(2016, 1, 8), 1130), (datetime.date(2016, 1, 2), 24), (datetime.date(2016, 1, 3), 0), (datetime.date(2016, 1, 6), 1264), (datetime.date(2016, 1, 7), 1268)], [(datetime.date(2016, 1, 4), 672), (datetime.date(2016, 1, 5), 717), (datetime.date(2016, 1, 8), 672), (datetime.date(2016, 1, 2), 337), (datetime.date(2016, 1, 3), 235), (datetime.date(2016, 1, 6), 626), (datetime.date(2016, 1, 7), 620)], [(datetime.date(2016, 1, 4), 300), (datetime.date(2016, 1, 5), 340), (datetime.date(2016, 1, 8), 330), (datetime.date(2016, 1, 2), 288), (datetime.date(2016, 1, 3), 113), (datetime.date(2016, 1, 6), 309), (datetime.date(2016, 1, 7), 292)], [(datetime.date(2016, 1, 4), 350), (datetime.date(2016, 1, 5), 333), (datetime.date(2016, 1, 8), 221), (datetime.date(2016, 1, 2), 12), (datetime.date(2016, 1, 3), 0), (datetime.date(2016, 1, 6), 286), (datetime.date(2016, 1, 7), 283)], [(datetime.date(2016, 1, 4), 409), (datetime.date(2016, 1, 5), 552), (datetime.date(2016, 1, 8), 357), (datetime.date(2016, 1, 2), 14), (datetime.date(2016, 1, 3), 0), (datetime.date(2016, 1, 6), 462), (datetime.date(2016, 1, 7), 408)], [(datetime.date(2016, 1, 4), 1704), (datetime.date(2016, 1, 5), 1794), (datetime.date(2016, 1, 8), 1325), (datetime.date(2016, 1, 2), 55), (datetime.date(2016, 1, 3), 0), (datetime.date(2016, 1, 6), 1557), (datetime.date(2016, 1, 7), 1621)], [(datetime.date(2016, 1, 4), 594), (datetime.date(2016, 1, 5), 669), (datetime.date(2016, 1, 8), 616), (datetime.date(2016, 1, 2), 374), (datetime.date(2016, 1, 3), 233), (datetime.date(2016, 1, 6), 646), (datetime.date(2016, 1, 7), 563)]]\n",
      "NEWKIRK PLAZA [[(datetime.date(2016, 1, 4), 775), (datetime.date(2016, 1, 5), 830), (datetime.date(2016, 1, 8), 929), (datetime.date(2016, 1, 2), 412), (datetime.date(2016, 1, 3), 348), (datetime.date(2016, 1, 6), 929), (datetime.date(2016, 1, 7), 947)], [(datetime.date(2016, 1, 4), 783), (datetime.date(2016, 1, 5), 897), (datetime.date(2016, 1, 8), 965), (datetime.date(2016, 1, 2), 502), (datetime.date(2016, 1, 3), 373), (datetime.date(2016, 1, 6), 998), (datetime.date(2016, 1, 7), 1070)], [(datetime.date(2016, 1, 4), 755), (datetime.date(2016, 1, 5), 619), (datetime.date(2016, 1, 8), 548), (datetime.date(2016, 1, 2), 277), (datetime.date(2016, 1, 3), 230), (datetime.date(2016, 1, 6), 563), (datetime.date(2016, 1, 7), 541)], [(datetime.date(2016, 1, 4), 658), (datetime.date(2016, 1, 5), 664), (datetime.date(2016, 1, 8), 658), (datetime.date(2016, 1, 2), 300), (datetime.date(2016, 1, 3), 292), (datetime.date(2016, 1, 6), 704), (datetime.date(2016, 1, 7), 664)], [(datetime.date(2016, 1, 4), 691), (datetime.date(2016, 1, 5), 698), (datetime.date(2016, 1, 8), 666), (datetime.date(2016, 1, 2), 325), (datetime.date(2016, 1, 3), 277), (datetime.date(2016, 1, 6), 788), (datetime.date(2016, 1, 7), 719)]]\n",
      "PATH WTC [[(datetime.date(2016, 1, 4), 712), (datetime.date(2016, 1, 5), 453), (datetime.date(2016, 1, 8), 511), (datetime.date(2016, 1, 2), 85), (datetime.date(2016, 1, 3), 46), (datetime.date(2016, 1, 6), 606), (datetime.date(2016, 1, 7), 655)], [(datetime.date(2016, 1, 4), 2468), (datetime.date(2016, 1, 5), 2448), (datetime.date(2016, 1, 8), 1924), (datetime.date(2016, 1, 2), 293), (datetime.date(2016, 1, 3), 207), (datetime.date(2016, 1, 6), 1779), (datetime.date(2016, 1, 7), 1879)], [(datetime.date(2016, 1, 4), 1387), (datetime.date(2016, 1, 5), 1391), (datetime.date(2016, 1, 8), 678), (datetime.date(2016, 1, 2), 197), (datetime.date(2016, 1, 3), 89), (datetime.date(2016, 1, 6), 1380), (datetime.date(2016, 1, 7), 1190)], [(datetime.date(2016, 1, 4), 953), (datetime.date(2016, 1, 5), 869), (datetime.date(2016, 1, 8), 655), (datetime.date(2016, 1, 2), 183), (datetime.date(2016, 1, 3), 103), (datetime.date(2016, 1, 6), 23), (datetime.date(2016, 1, 7), 698)], [(datetime.date(2016, 1, 4), 3050), (datetime.date(2016, 1, 5), 2528), (datetime.date(2016, 1, 8), 2110), (datetime.date(2016, 1, 2), 614), (datetime.date(2016, 1, 3), 386), (datetime.date(2016, 1, 6), 1983), (datetime.date(2016, 1, 7), 1694)], [(datetime.date(2016, 1, 4), 705), (datetime.date(2016, 1, 5), 785), (datetime.date(2016, 1, 8), 585), (datetime.date(2016, 1, 2), 108), (datetime.date(2016, 1, 3), 48), (datetime.date(2016, 1, 6), 630), (datetime.date(2016, 1, 7), 546)], [(datetime.date(2016, 1, 4), 823), (datetime.date(2016, 1, 5), 1262), (datetime.date(2016, 1, 8), 1001), (datetime.date(2016, 1, 2), 208), (datetime.date(2016, 1, 3), 138), (datetime.date(2016, 1, 6), 1543), (datetime.date(2016, 1, 7), 1016)], [(datetime.date(2016, 1, 4), 556), (datetime.date(2016, 1, 5), 764), (datetime.date(2016, 1, 8), 615), (datetime.date(2016, 1, 2), 153), (datetime.date(2016, 1, 3), 80), (datetime.date(2016, 1, 6), 1106), (datetime.date(2016, 1, 7), 697)], [(datetime.date(2016, 1, 4), 1767), (datetime.date(2016, 1, 5), 1438), (datetime.date(2016, 1, 8), 1352), (datetime.date(2016, 1, 2), 244), (datetime.date(2016, 1, 3), 156), (datetime.date(2016, 1, 6), 1025), (datetime.date(2016, 1, 7), 1267)], [(datetime.date(2016, 1, 4), 1491), (datetime.date(2016, 1, 5), 1746), (datetime.date(2016, 1, 8), 777), (datetime.date(2016, 1, 2), 129), (datetime.date(2016, 1, 3), 149), (datetime.date(2016, 1, 6), 1016), (datetime.date(2016, 1, 7), 950)], [(datetime.date(2016, 1, 4), 1948), (datetime.date(2016, 1, 5), 2332), (datetime.date(2016, 1, 8), 1905), (datetime.date(2016, 1, 2), 429), (datetime.date(2016, 1, 3), 279), (datetime.date(2016, 1, 6), 1875), (datetime.date(2016, 1, 7), 1382)], [(datetime.date(2016, 1, 4), 488), (datetime.date(2016, 1, 5), 277), (datetime.date(2016, 1, 8), 309), (datetime.date(2016, 1, 2), 43), (datetime.date(2016, 1, 3), 22), (datetime.date(2016, 1, 6), 411), (datetime.date(2016, 1, 7), 442)], [(datetime.date(2016, 1, 4), 2001), (datetime.date(2016, 1, 5), 1718), (datetime.date(2016, 1, 8), 1600), (datetime.date(2016, 1, 2), 326), (datetime.date(2016, 1, 3), 211), (datetime.date(2016, 1, 6), 1443), (datetime.date(2016, 1, 7), 1341)], [(datetime.date(2016, 1, 4), 2045), (datetime.date(2016, 1, 5), 2327), (datetime.date(2016, 1, 8), 1896), (datetime.date(2016, 1, 2), 341), (datetime.date(2016, 1, 3), 257), (datetime.date(2016, 1, 6), 2106), (datetime.date(2016, 1, 7), 1693)], [(datetime.date(2016, 1, 4), 325), (datetime.date(2016, 1, 5), 207), (datetime.date(2016, 1, 8), 115), (datetime.date(2016, 1, 2), 22), (datetime.date(2016, 1, 3), 5), (datetime.date(2016, 1, 6), 278), (datetime.date(2016, 1, 7), 216)], [(datetime.date(2016, 1, 4), 22), (datetime.date(2016, 1, 5), 14), (datetime.date(2016, 1, 8), 16), (datetime.date(2016, 1, 2), 6), (datetime.date(2016, 1, 3), 5), (datetime.date(2016, 1, 6), 14), (datetime.date(2016, 1, 7), 17)], [(datetime.date(2016, 1, 4), 0), (datetime.date(2016, 1, 5), 1066), (datetime.date(2016, 1, 8), 2061), (datetime.date(2016, 1, 2), 0), (datetime.date(2016, 1, 3), 0), (datetime.date(2016, 1, 6), 1887), (datetime.date(2016, 1, 7), 2137)], [(datetime.date(2016, 1, 4), 830), (datetime.date(2016, 1, 5), 205), (datetime.date(2016, 1, 8), 1404), (datetime.date(2016, 1, 2), 166), (datetime.date(2016, 1, 3), 7), (datetime.date(2016, 1, 6), 1009), (datetime.date(2016, 1, 7), 353461)], [(datetime.date(2016, 1, 4), 124), (datetime.date(2016, 1, 5), 74), (datetime.date(2016, 1, 8), 30), (datetime.date(2016, 1, 2), 13), (datetime.date(2016, 1, 3), 6), (datetime.date(2016, 1, 6), 79), (datetime.date(2016, 1, 7), 67)], [(datetime.date(2016, 1, 4), 2489), (datetime.date(2016, 1, 5), 2414), (datetime.date(2016, 1, 8), 2047), (datetime.date(2016, 1, 2), 559), (datetime.date(2016, 1, 3), 325), (datetime.date(2016, 1, 6), 1877), (datetime.date(2016, 1, 7), 1855)], [(datetime.date(2016, 1, 4), 2), (datetime.date(2016, 1, 5), 3), (datetime.date(2016, 1, 8), 1), (datetime.date(2016, 1, 2), 5), (datetime.date(2016, 1, 3), 1), (datetime.date(2016, 1, 6), 4), (datetime.date(2016, 1, 7), 2)], [(datetime.date(2016, 1, 4), 567), (datetime.date(2016, 1, 5), 437), (datetime.date(2016, 1, 8), 433), (datetime.date(2016, 1, 2), 70), (datetime.date(2016, 1, 3), 22), (datetime.date(2016, 1, 6), 502), (datetime.date(2016, 1, 7), 557)], [(datetime.date(2016, 1, 4), 989), (datetime.date(2016, 1, 5), 779), (datetime.date(2016, 1, 8), 617), (datetime.date(2016, 1, 2), 198), (datetime.date(2016, 1, 3), 108), (datetime.date(2016, 1, 6), 819), (datetime.date(2016, 1, 7), 1046)], [(datetime.date(2016, 1, 4), 979), (datetime.date(2016, 1, 5), 1032), (datetime.date(2016, 1, 8), 851), (datetime.date(2016, 1, 2), 175), (datetime.date(2016, 1, 3), 138), (datetime.date(2016, 1, 6), 1407), (datetime.date(2016, 1, 7), 643)], [(datetime.date(2016, 1, 4), 845), (datetime.date(2016, 1, 5), 767), (datetime.date(2016, 1, 8), 697), (datetime.date(2016, 1, 2), 147), (datetime.date(2016, 1, 3), 82), (datetime.date(2016, 1, 6), 631), (datetime.date(2016, 1, 7), 620)], [(datetime.date(2016, 1, 4), 2050), (datetime.date(2016, 1, 5), 2532), (datetime.date(2016, 1, 8), 2044), (datetime.date(2016, 1, 2), 371), (datetime.date(2016, 1, 3), 323), (datetime.date(2016, 1, 6), 2192), (datetime.date(2016, 1, 7), 1764)]]\n",
      "HARLEM 148 ST [[(datetime.date(2016, 1, 4), 440), (datetime.date(2016, 1, 5), 458), (datetime.date(2016, 1, 8), 461), (datetime.date(2016, 1, 2), 214), (datetime.date(2016, 1, 3), 148), (datetime.date(2016, 1, 6), 544), (datetime.date(2016, 1, 7), 539)], [(datetime.date(2016, 1, 4), 592), (datetime.date(2016, 1, 5), 528), (datetime.date(2016, 1, 8), 519), (datetime.date(2016, 1, 2), 196), (datetime.date(2016, 1, 3), 225), (datetime.date(2016, 1, 6), 607), (datetime.date(2016, 1, 7), 626)], [(datetime.date(2016, 1, 4), 602), (datetime.date(2016, 1, 5), 565), (datetime.date(2016, 1, 8), 567), (datetime.date(2016, 1, 2), 211), (datetime.date(2016, 1, 3), 209), (datetime.date(2016, 1, 6), 727), (datetime.date(2016, 1, 7), 709)]]\n"
     ]
    }
   ],
   "source": [
    "##modified version of ozzie's code, removes date from value index\n",
    "\n",
    "def entries_per_day_func_2(my_list):\n",
    "   ## Get unique values of dates\n",
    "   dates = [row[0].date() for row in my_list]\n",
    "   dates = set(dates)\n",
    "   \n",
    "   result = []\n",
    "   for date in dates:\n",
    "       entries = [x[1] for x in my_list if x[0].date() == date]\n",
    "       result.append((date, (max(entries)-min(entries))))\n",
    "   return result\n",
    "\n",
    "\n",
    "### should to incorporate dict.setdefault(key, []).append() into this:\n",
    "\n",
    "station_total1 = dict()\n",
    "for key, value in datetime_count_times.items():\n",
    "    if key[-1] in station_total1:\n",
    "        station_total1[key[-1]].append(entries_per_day_func_2(value) if )\n",
    "    else:\n",
    "        station_total1[key[-1]] = [entries_per_day_func_2(value)]\n",
    "\n",
    "\n",
    "summed_dict = {}\n",
    "for key, value in station_total1.items():\n",
    "    summed_dict[key] = (([x for x in value]))\n",
    "    \n",
    "station_totals = []\n",
    "for x, y in summed_dict.items()[:5]:\n",
    "    print x, y"
   ]
  },
  {
   "cell_type": "code",
   "execution_count": 436,
   "metadata": {
    "collapsed": false
   },
   "outputs": [
    {
     "data": {
      "text/plain": [
       "[[(datetime.date(2016, 1, 4), 126),\n",
       "  (datetime.date(2016, 1, 5), 136),\n",
       "  (datetime.date(2016, 1, 8), 112),\n",
       "  (datetime.date(2016, 1, 2), 31),\n",
       "  (datetime.date(2016, 1, 3), 20),\n",
       "  (datetime.date(2016, 1, 6), 154),\n",
       "  (datetime.date(2016, 1, 7), 136)],\n",
       " [(datetime.date(2016, 1, 4), 318),\n",
       "  (datetime.date(2016, 1, 5), 328),\n",
       "  (datetime.date(2016, 1, 8), 248),\n",
       "  (datetime.date(2016, 1, 2), 60),\n",
       "  (datetime.date(2016, 1, 3), 53),\n",
       "  (datetime.date(2016, 1, 6), 293),\n",
       "  (datetime.date(2016, 1, 7), 284)],\n",
       " [(datetime.date(2016, 1, 4), 447),\n",
       "  (datetime.date(2016, 1, 5), 466),\n",
       "  (datetime.date(2016, 1, 8), 480),\n",
       "  (datetime.date(2016, 1, 2), 191),\n",
       "  (datetime.date(2016, 1, 3), 133),\n",
       "  (datetime.date(2016, 1, 6), 449),\n",
       "  (datetime.date(2016, 1, 7), 502)],\n",
       " [(datetime.date(2016, 1, 4), 203),\n",
       "  (datetime.date(2016, 1, 5), 192),\n",
       "  (datetime.date(2016, 1, 8), 183),\n",
       "  (datetime.date(2016, 1, 2), 69),\n",
       "  (datetime.date(2016, 1, 3), 41),\n",
       "  (datetime.date(2016, 1, 6), 160),\n",
       "  (datetime.date(2016, 1, 7), 181)],\n",
       " [(datetime.date(2016, 1, 4), 3),\n",
       "  (datetime.date(2016, 1, 5), 1),\n",
       "  (datetime.date(2016, 1, 8), 3),\n",
       "  (datetime.date(2016, 1, 2), 2),\n",
       "  (datetime.date(2016, 1, 3), 1),\n",
       "  (datetime.date(2016, 1, 6), 3),\n",
       "  (datetime.date(2016, 1, 7), 4)],\n",
       " [(datetime.date(2016, 1, 4), 183),\n",
       "  (datetime.date(2016, 1, 5), 161),\n",
       "  (datetime.date(2016, 1, 8), 163),\n",
       "  (datetime.date(2016, 1, 2), 120),\n",
       "  (datetime.date(2016, 1, 3), 64),\n",
       "  (datetime.date(2016, 1, 6), 168),\n",
       "  (datetime.date(2016, 1, 7), 159)],\n",
       " [(datetime.date(2016, 1, 4), 871),\n",
       "  (datetime.date(2016, 1, 5), 771),\n",
       "  (datetime.date(2016, 1, 8), 788),\n",
       "  (datetime.date(2016, 1, 2), 458),\n",
       "  (datetime.date(2016, 1, 3), 365),\n",
       "  (datetime.date(2016, 1, 6), 811),\n",
       "  (datetime.date(2016, 1, 7), 784)],\n",
       " [(datetime.date(2016, 1, 4), 720),\n",
       "  (datetime.date(2016, 1, 5), 666),\n",
       "  (datetime.date(2016, 1, 8), 722),\n",
       "  (datetime.date(2016, 1, 2), 405),\n",
       "  (datetime.date(2016, 1, 3), 332),\n",
       "  (datetime.date(2016, 1, 6), 738),\n",
       "  (datetime.date(2016, 1, 7), 680)],\n",
       " [(datetime.date(2016, 1, 4), 1276),\n",
       "  (datetime.date(2016, 1, 5), 1206),\n",
       "  (datetime.date(2016, 1, 8), 1203),\n",
       "  (datetime.date(2016, 1, 2), 661),\n",
       "  (datetime.date(2016, 1, 3), 444),\n",
       "  (datetime.date(2016, 1, 6), 1304),\n",
       "  (datetime.date(2016, 1, 7), 1294)],\n",
       " [(datetime.date(2016, 1, 4), 353),\n",
       "  (datetime.date(2016, 1, 5), 419),\n",
       "  (datetime.date(2016, 1, 8), 338),\n",
       "  (datetime.date(2016, 1, 2), 175),\n",
       "  (datetime.date(2016, 1, 3), 125),\n",
       "  (datetime.date(2016, 1, 6), 377),\n",
       "  (datetime.date(2016, 1, 7), 380)],\n",
       " [(datetime.date(2016, 1, 4), 763),\n",
       "  (datetime.date(2016, 1, 5), 770),\n",
       "  (datetime.date(2016, 1, 8), 727),\n",
       "  (datetime.date(2016, 1, 2), 75),\n",
       "  (datetime.date(2016, 1, 3), 45),\n",
       "  (datetime.date(2016, 1, 6), 819),\n",
       "  (datetime.date(2016, 1, 7), 746)],\n",
       " [(datetime.date(2016, 1, 4), 1038),\n",
       "  (datetime.date(2016, 1, 5), 1070),\n",
       "  (datetime.date(2016, 1, 8), 1140),\n",
       "  (datetime.date(2016, 1, 2), 452),\n",
       "  (datetime.date(2016, 1, 3), 320),\n",
       "  (datetime.date(2016, 1, 6), 1099),\n",
       "  (datetime.date(2016, 1, 7), 1087)],\n",
       " [(datetime.date(2016, 1, 4), 2),\n",
       "  (datetime.date(2016, 1, 5), 1),\n",
       "  (datetime.date(2016, 1, 8), 2),\n",
       "  (datetime.date(2016, 1, 2), 2),\n",
       "  (datetime.date(2016, 1, 3), 1),\n",
       "  (datetime.date(2016, 1, 6), 2),\n",
       "  (datetime.date(2016, 1, 7), 3)],\n",
       " [(datetime.date(2016, 1, 4), 0),\n",
       "  (datetime.date(2016, 1, 5), 0),\n",
       "  (datetime.date(2016, 1, 8), 0),\n",
       "  (datetime.date(2016, 1, 2), 1),\n",
       "  (datetime.date(2016, 1, 3), 1),\n",
       "  (datetime.date(2016, 1, 6), 0),\n",
       "  (datetime.date(2016, 1, 7), 1)],\n",
       " [(datetime.date(2016, 1, 4), 81),\n",
       "  (datetime.date(2016, 1, 5), 90),\n",
       "  (datetime.date(2016, 1, 8), 97),\n",
       "  (datetime.date(2016, 1, 2), 72),\n",
       "  (datetime.date(2016, 1, 3), 42),\n",
       "  (datetime.date(2016, 1, 6), 87),\n",
       "  (datetime.date(2016, 1, 7), 97)],\n",
       " [(datetime.date(2016, 1, 4), 0),\n",
       "  (datetime.date(2016, 1, 5), 0),\n",
       "  (datetime.date(2016, 1, 8), 0),\n",
       "  (datetime.date(2016, 1, 2), 0),\n",
       "  (datetime.date(2016, 1, 3), 0),\n",
       "  (datetime.date(2016, 1, 6), 0),\n",
       "  (datetime.date(2016, 1, 7), 0)],\n",
       " [(datetime.date(2016, 1, 4), 362),\n",
       "  (datetime.date(2016, 1, 5), 377),\n",
       "  (datetime.date(2016, 1, 8), 386),\n",
       "  (datetime.date(2016, 1, 2), 274),\n",
       "  (datetime.date(2016, 1, 3), 210),\n",
       "  (datetime.date(2016, 1, 6), 360),\n",
       "  (datetime.date(2016, 1, 7), 344)],\n",
       " [(datetime.date(2016, 1, 4), 1031),\n",
       "  (datetime.date(2016, 1, 5), 1045),\n",
       "  (datetime.date(2016, 1, 8), 1047),\n",
       "  (datetime.date(2016, 1, 2), 1138),\n",
       "  (datetime.date(2016, 1, 3), 826),\n",
       "  (datetime.date(2016, 1, 6), 1055),\n",
       "  (datetime.date(2016, 1, 7), 1083)],\n",
       " [(datetime.date(2016, 1, 4), 1057),\n",
       "  (datetime.date(2016, 1, 5), 1046),\n",
       "  (datetime.date(2016, 1, 8), 1053),\n",
       "  (datetime.date(2016, 1, 2), 1082),\n",
       "  (datetime.date(2016, 1, 3), 742),\n",
       "  (datetime.date(2016, 1, 6), 1033),\n",
       "  (datetime.date(2016, 1, 7), 1090)],\n",
       " [(datetime.date(2016, 1, 4), 189),\n",
       "  (datetime.date(2016, 1, 5), 165),\n",
       "  (datetime.date(2016, 1, 8), 173),\n",
       "  (datetime.date(2016, 1, 2), 128),\n",
       "  (datetime.date(2016, 1, 3), 88),\n",
       "  (datetime.date(2016, 1, 6), 166),\n",
       "  (datetime.date(2016, 1, 7), 150)],\n",
       " [(datetime.date(2016, 1, 4), 252),\n",
       "  (datetime.date(2016, 1, 5), 266),\n",
       "  (datetime.date(2016, 1, 8), 292),\n",
       "  (datetime.date(2016, 1, 2), 289),\n",
       "  (datetime.date(2016, 1, 3), 197),\n",
       "  (datetime.date(2016, 1, 6), 266),\n",
       "  (datetime.date(2016, 1, 7), 261)],\n",
       " [(datetime.date(2016, 1, 4), 0),\n",
       "  (datetime.date(2016, 1, 5), 0),\n",
       "  (datetime.date(2016, 1, 8), 0),\n",
       "  (datetime.date(2016, 1, 2), 0),\n",
       "  (datetime.date(2016, 1, 3), 0),\n",
       "  (datetime.date(2016, 1, 6), 0),\n",
       "  (datetime.date(2016, 1, 7), 0)],\n",
       " [(datetime.date(2016, 1, 4), 333),\n",
       "  (datetime.date(2016, 1, 5), 353),\n",
       "  (datetime.date(2016, 1, 8), 305),\n",
       "  (datetime.date(2016, 1, 2), 139),\n",
       "  (datetime.date(2016, 1, 3), 129),\n",
       "  (datetime.date(2016, 1, 6), 348),\n",
       "  (datetime.date(2016, 1, 7), 308)],\n",
       " [(datetime.date(2016, 1, 4), 317),\n",
       "  (datetime.date(2016, 1, 5), 323),\n",
       "  (datetime.date(2016, 1, 8), 318),\n",
       "  (datetime.date(2016, 1, 2), 222),\n",
       "  (datetime.date(2016, 1, 3), 175),\n",
       "  (datetime.date(2016, 1, 6), 327),\n",
       "  (datetime.date(2016, 1, 7), 337)],\n",
       " [(datetime.date(2016, 1, 4), 0),\n",
       "  (datetime.date(2016, 1, 5), 1),\n",
       "  (datetime.date(2016, 1, 8), 0),\n",
       "  (datetime.date(2016, 1, 2), 0),\n",
       "  (datetime.date(2016, 1, 3), 0),\n",
       "  (datetime.date(2016, 1, 6), 1),\n",
       "  (datetime.date(2016, 1, 7), 2)],\n",
       " [(datetime.date(2016, 1, 4), 670),\n",
       "  (datetime.date(2016, 1, 5), 594),\n",
       "  (datetime.date(2016, 1, 8), 655),\n",
       "  (datetime.date(2016, 1, 2), 531),\n",
       "  (datetime.date(2016, 1, 3), 358),\n",
       "  (datetime.date(2016, 1, 6), 608),\n",
       "  (datetime.date(2016, 1, 7), 684)],\n",
       " [(datetime.date(2016, 1, 4), 983),\n",
       "  (datetime.date(2016, 1, 5), 849),\n",
       "  (datetime.date(2016, 1, 8), 880),\n",
       "  (datetime.date(2016, 1, 2), 477),\n",
       "  (datetime.date(2016, 1, 3), 369),\n",
       "  (datetime.date(2016, 1, 6), 975),\n",
       "  (datetime.date(2016, 1, 7), 912)],\n",
       " [(datetime.date(2016, 1, 4), 236),\n",
       "  (datetime.date(2016, 1, 5), 241),\n",
       "  (datetime.date(2016, 1, 8), 282),\n",
       "  (datetime.date(2016, 1, 2), 272),\n",
       "  (datetime.date(2016, 1, 3), 162),\n",
       "  (datetime.date(2016, 1, 6), 237),\n",
       "  (datetime.date(2016, 1, 7), 245)],\n",
       " [(datetime.date(2016, 1, 4), 860),\n",
       "  (datetime.date(2016, 1, 5), 831),\n",
       "  (datetime.date(2016, 1, 8), 860),\n",
       "  (datetime.date(2016, 1, 2), 234),\n",
       "  (datetime.date(2016, 1, 3), 215),\n",
       "  (datetime.date(2016, 1, 6), 862),\n",
       "  (datetime.date(2016, 1, 7), 881)],\n",
       " [(datetime.date(2016, 1, 4), 717),\n",
       "  (datetime.date(2016, 1, 5), 656),\n",
       "  (datetime.date(2016, 1, 8), 773),\n",
       "  (datetime.date(2016, 1, 2), 478),\n",
       "  (datetime.date(2016, 1, 3), 400),\n",
       "  (datetime.date(2016, 1, 6), 693),\n",
       "  (datetime.date(2016, 1, 7), 717)],\n",
       " [(datetime.date(2016, 1, 4), 608),\n",
       "  (datetime.date(2016, 1, 5), 602),\n",
       "  (datetime.date(2016, 1, 8), 621),\n",
       "  (datetime.date(2016, 1, 2), 314),\n",
       "  (datetime.date(2016, 1, 3), 278),\n",
       "  (datetime.date(2016, 1, 6), 656),\n",
       "  (datetime.date(2016, 1, 7), 613)],\n",
       " [(datetime.date(2016, 1, 4), 467),\n",
       "  (datetime.date(2016, 1, 5), 513),\n",
       "  (datetime.date(2016, 1, 8), 428),\n",
       "  (datetime.date(2016, 1, 2), 124),\n",
       "  (datetime.date(2016, 1, 3), 62),\n",
       "  (datetime.date(2016, 1, 6), 454),\n",
       "  (datetime.date(2016, 1, 7), 475)],\n",
       " [(datetime.date(2016, 1, 4), 284),\n",
       "  (datetime.date(2016, 1, 5), 262),\n",
       "  (datetime.date(2016, 1, 8), 330),\n",
       "  (datetime.date(2016, 1, 2), 220),\n",
       "  (datetime.date(2016, 1, 3), 152),\n",
       "  (datetime.date(2016, 1, 6), 284),\n",
       "  (datetime.date(2016, 1, 7), 284)],\n",
       " [(datetime.date(2016, 1, 4), 1267),\n",
       "  (datetime.date(2016, 1, 5), 1364),\n",
       "  (datetime.date(2016, 1, 8), 1238),\n",
       "  (datetime.date(2016, 1, 2), 255),\n",
       "  (datetime.date(2016, 1, 3), 176),\n",
       "  (datetime.date(2016, 1, 6), 1336),\n",
       "  (datetime.date(2016, 1, 7), 1321)],\n",
       " [(datetime.date(2016, 1, 4), 368),\n",
       "  (datetime.date(2016, 1, 5), 344),\n",
       "  (datetime.date(2016, 1, 8), 392),\n",
       "  (datetime.date(2016, 1, 2), 312),\n",
       "  (datetime.date(2016, 1, 3), 233),\n",
       "  (datetime.date(2016, 1, 6), 368),\n",
       "  (datetime.date(2016, 1, 7), 431)],\n",
       " [(datetime.date(2016, 1, 4), 467),\n",
       "  (datetime.date(2016, 1, 5), 350),\n",
       "  (datetime.date(2016, 1, 8), 452),\n",
       "  (datetime.date(2016, 1, 2), 457),\n",
       "  (datetime.date(2016, 1, 3), 339),\n",
       "  (datetime.date(2016, 1, 6), 447),\n",
       "  (datetime.date(2016, 1, 7), 439)],\n",
       " [(datetime.date(2016, 1, 4), 597),\n",
       "  (datetime.date(2016, 1, 5), 613),\n",
       "  (datetime.date(2016, 1, 8), 484),\n",
       "  (datetime.date(2016, 1, 2), 167),\n",
       "  (datetime.date(2016, 1, 3), 110),\n",
       "  (datetime.date(2016, 1, 6), 540),\n",
       "  (datetime.date(2016, 1, 7), 567)],\n",
       " [(datetime.date(2016, 1, 4), 717),\n",
       "  (datetime.date(2016, 1, 5), 762),\n",
       "  (datetime.date(2016, 1, 8), 767),\n",
       "  (datetime.date(2016, 1, 2), 224),\n",
       "  (datetime.date(2016, 1, 3), 163),\n",
       "  (datetime.date(2016, 1, 6), 748),\n",
       "  (datetime.date(2016, 1, 7), 743)],\n",
       " [(datetime.date(2016, 1, 4), 1845),\n",
       "  (datetime.date(2016, 1, 5), 1719),\n",
       "  (datetime.date(2016, 1, 8), 2121),\n",
       "  (datetime.date(2016, 1, 2), 1268),\n",
       "  (datetime.date(2016, 1, 3), 1182),\n",
       "  (datetime.date(2016, 1, 6), 1806),\n",
       "  (datetime.date(2016, 1, 7), 1785)],\n",
       " [(datetime.date(2016, 1, 4), 927),\n",
       "  (datetime.date(2016, 1, 5), 919),\n",
       "  (datetime.date(2016, 1, 8), 850),\n",
       "  (datetime.date(2016, 1, 2), 1004),\n",
       "  (datetime.date(2016, 1, 3), 709),\n",
       "  (datetime.date(2016, 1, 6), 848),\n",
       "  (datetime.date(2016, 1, 7), 803)],\n",
       " [(datetime.date(2016, 1, 4), 149),\n",
       "  (datetime.date(2016, 1, 5), 128),\n",
       "  (datetime.date(2016, 1, 8), 152),\n",
       "  (datetime.date(2016, 1, 2), 120),\n",
       "  (datetime.date(2016, 1, 3), 80),\n",
       "  (datetime.date(2016, 1, 6), 125),\n",
       "  (datetime.date(2016, 1, 7), 124)],\n",
       " [(datetime.date(2016, 1, 4), 1553),\n",
       "  (datetime.date(2016, 1, 5), 1533),\n",
       "  (datetime.date(2016, 1, 8), 1495),\n",
       "  (datetime.date(2016, 1, 2), 300),\n",
       "  (datetime.date(2016, 1, 3), 255),\n",
       "  (datetime.date(2016, 1, 6), 1592),\n",
       "  (datetime.date(2016, 1, 7), 1580)],\n",
       " [(datetime.date(2016, 1, 4), 205),\n",
       "  (datetime.date(2016, 1, 5), 171),\n",
       "  (datetime.date(2016, 1, 8), 198),\n",
       "  (datetime.date(2016, 1, 2), 123),\n",
       "  (datetime.date(2016, 1, 3), 92),\n",
       "  (datetime.date(2016, 1, 6), 204),\n",
       "  (datetime.date(2016, 1, 7), 175)],\n",
       " [(datetime.date(2016, 1, 4), 951),\n",
       "  (datetime.date(2016, 1, 5), 949),\n",
       "  (datetime.date(2016, 1, 8), 888),\n",
       "  (datetime.date(2016, 1, 2), 184),\n",
       "  (datetime.date(2016, 1, 3), 109),\n",
       "  (datetime.date(2016, 1, 6), 950),\n",
       "  (datetime.date(2016, 1, 7), 892)],\n",
       " [(datetime.date(2016, 1, 4), 1303),\n",
       "  (datetime.date(2016, 1, 5), 1315),\n",
       "  (datetime.date(2016, 1, 8), 1312),\n",
       "  (datetime.date(2016, 1, 2), 458),\n",
       "  (datetime.date(2016, 1, 3), 373),\n",
       "  (datetime.date(2016, 1, 6), 1335),\n",
       "  (datetime.date(2016, 1, 7), 1343)],\n",
       " [(datetime.date(2016, 1, 4), 1678),\n",
       "  (datetime.date(2016, 1, 5), 1479),\n",
       "  (datetime.date(2016, 1, 8), 1556),\n",
       "  (datetime.date(2016, 1, 2), 1087),\n",
       "  (datetime.date(2016, 1, 3), 998),\n",
       "  (datetime.date(2016, 1, 6), 1438),\n",
       "  (datetime.date(2016, 1, 7), 1471)],\n",
       " [(datetime.date(2016, 1, 4), 232),\n",
       "  (datetime.date(2016, 1, 5), 205),\n",
       "  (datetime.date(2016, 1, 8), 191),\n",
       "  (datetime.date(2016, 1, 2), 54),\n",
       "  (datetime.date(2016, 1, 3), 33),\n",
       "  (datetime.date(2016, 1, 6), 182),\n",
       "  (datetime.date(2016, 1, 7), 191)],\n",
       " [(datetime.date(2016, 1, 4), 638),\n",
       "  (datetime.date(2016, 1, 5), 459),\n",
       "  (datetime.date(2016, 1, 8), 632),\n",
       "  (datetime.date(2016, 1, 2), 581),\n",
       "  (datetime.date(2016, 1, 3), 460),\n",
       "  (datetime.date(2016, 1, 6), 612),\n",
       "  (datetime.date(2016, 1, 7), 641)],\n",
       " [(datetime.date(2016, 1, 4), 778),\n",
       "  (datetime.date(2016, 1, 5), 796),\n",
       "  (datetime.date(2016, 1, 8), 735),\n",
       "  (datetime.date(2016, 1, 2), 178),\n",
       "  (datetime.date(2016, 1, 3), 138),\n",
       "  (datetime.date(2016, 1, 6), 774),\n",
       "  (datetime.date(2016, 1, 7), 834)],\n",
       " [(datetime.date(2016, 1, 4), 1736),\n",
       "  (datetime.date(2016, 1, 5), 1760),\n",
       "  (datetime.date(2016, 1, 8), 1503),\n",
       "  (datetime.date(2016, 1, 2), 1366),\n",
       "  (datetime.date(2016, 1, 3), 1196),\n",
       "  (datetime.date(2016, 1, 6), 1729),\n",
       "  (datetime.date(2016, 1, 7), 1748)],\n",
       " [(datetime.date(2016, 1, 4), 460),\n",
       "  (datetime.date(2016, 1, 5), 454),\n",
       "  (datetime.date(2016, 1, 8), 443),\n",
       "  (datetime.date(2016, 1, 2), 435),\n",
       "  (datetime.date(2016, 1, 3), 298),\n",
       "  (datetime.date(2016, 1, 6), 407),\n",
       "  (datetime.date(2016, 1, 7), 734)],\n",
       " [(datetime.date(2016, 1, 4), 260),\n",
       "  (datetime.date(2016, 1, 5), 238),\n",
       "  (datetime.date(2016, 1, 8), 248),\n",
       "  (datetime.date(2016, 1, 2), 188),\n",
       "  (datetime.date(2016, 1, 3), 143),\n",
       "  (datetime.date(2016, 1, 6), 201),\n",
       "  (datetime.date(2016, 1, 7), 241)],\n",
       " [(datetime.date(2016, 1, 4), 483),\n",
       "  (datetime.date(2016, 1, 5), 368),\n",
       "  (datetime.date(2016, 1, 8), 465),\n",
       "  (datetime.date(2016, 1, 2), 311),\n",
       "  (datetime.date(2016, 1, 3), 156),\n",
       "  (datetime.date(2016, 1, 6), 444),\n",
       "  (datetime.date(2016, 1, 7), 265)],\n",
       " [(datetime.date(2016, 1, 4), 378),\n",
       "  (datetime.date(2016, 1, 5), 360),\n",
       "  (datetime.date(2016, 1, 8), 338),\n",
       "  (datetime.date(2016, 1, 2), 90),\n",
       "  (datetime.date(2016, 1, 3), 56),\n",
       "  (datetime.date(2016, 1, 6), 341),\n",
       "  (datetime.date(2016, 1, 7), 321)],\n",
       " [(datetime.date(2016, 1, 4), 204),\n",
       "  (datetime.date(2016, 1, 5), 186),\n",
       "  (datetime.date(2016, 1, 8), 171),\n",
       "  (datetime.date(2016, 1, 2), 42),\n",
       "  (datetime.date(2016, 1, 3), 25),\n",
       "  (datetime.date(2016, 1, 6), 197),\n",
       "  (datetime.date(2016, 1, 7), 182)],\n",
       " [(datetime.date(2016, 1, 4), 228),\n",
       "  (datetime.date(2016, 1, 5), 203),\n",
       "  (datetime.date(2016, 1, 8), 243),\n",
       "  (datetime.date(2016, 1, 2), 271),\n",
       "  (datetime.date(2016, 1, 3), 158),\n",
       "  (datetime.date(2016, 1, 6), 179),\n",
       "  (datetime.date(2016, 1, 7), 230)],\n",
       " [(datetime.date(2016, 1, 4), 204),\n",
       "  (datetime.date(2016, 1, 5), 195),\n",
       "  (datetime.date(2016, 1, 8), 221),\n",
       "  (datetime.date(2016, 1, 2), 96),\n",
       "  (datetime.date(2016, 1, 3), 46),\n",
       "  (datetime.date(2016, 1, 6), 194),\n",
       "  (datetime.date(2016, 1, 7), 192)],\n",
       " [(datetime.date(2016, 1, 4), 563),\n",
       "  (datetime.date(2016, 1, 5), 605),\n",
       "  (datetime.date(2016, 1, 8), 548),\n",
       "  (datetime.date(2016, 1, 2), 183),\n",
       "  (datetime.date(2016, 1, 3), 125),\n",
       "  (datetime.date(2016, 1, 6), 553),\n",
       "  (datetime.date(2016, 1, 7), 545)]]"
      ]
     },
     "execution_count": 436,
     "metadata": {},
     "output_type": "execute_result"
    }
   ],
   "source": [
    "station_total1['CANAL ST']"
   ]
  },
  {
   "cell_type": "code",
   "execution_count": 511,
   "metadata": {
    "collapsed": false
   },
   "outputs": [
    {
     "name": "stdout",
     "output_type": "stream",
     "text": [
      "CYPRESS AV (datetime.date(2016, 1, 7), 251)\n"
     ]
    }
   ],
   "source": [
    "by_station_daily_sum = dict()\n",
    "\n",
    "for k, v in station_total1.items()[:1]:\n",
    "    "
   ]
  },
  {
   "cell_type": "code",
   "execution_count": 498,
   "metadata": {
    "collapsed": false
   },
   "outputs": [
    {
     "data": {
      "text/plain": [
       "{'CYPRESS AV': 64}"
      ]
     },
     "execution_count": 498,
     "metadata": {},
     "output_type": "execute_result"
    }
   ],
   "source": [
    "by_station_daily_sum"
   ]
  },
  {
   "cell_type": "markdown",
   "metadata": {},
   "source": [
    "# Challenge 1:6\n",
    "\n",
    "Similarly, combine everything in each station, and come up with a time series of [(date1, count1),(date2,count2),...]\n",
    "type of time series for each STATION, by adding up all the turnstiles in a station."
   ]
  },
  {
   "cell_type": "code",
   "execution_count": 407,
   "metadata": {
    "collapsed": false
   },
   "outputs": [
    {
     "name": "stdout",
     "output_type": "stream",
     "text": [
      "V [Timestamp('2016-01-02 00:00:00'), 794367]\n",
      "ROCKAWAY BLVD [Timestamp('2016-01-02 00:00:00'), 7142470]\n",
      "BEACH 60 ST [Timestamp('2016-01-02 03:00:00'), 117440597]\n",
      "PATH WTC [Timestamp('2016-01-02 01:16:47'), 501970]\n",
      "GRAND ST [Timestamp('2016-01-02 03:00:00'), 642637]\n"
     ]
    }
   ],
   "source": [
    "for key, values in time_dict.items()[:5]:\n",
    "    if key[-1], values[0]"
   ]
  },
  {
   "cell_type": "code",
   "execution_count": 408,
   "metadata": {
    "collapsed": true
   },
   "outputs": [],
   "source": [
    "#modify station_weekly function to feature total counts per day at each station\n",
    "\n",
    "def entries_per_day_func(my_list):\n",
    "   ## Get unique values of dates\n",
    "   dates = [row[0].date() for row in my_list]\n",
    "   dates = set(dates)\n",
    "   \n",
    "   result = []\n",
    "   for date in dates:\n",
    "       entries = [x[1] for x in my_list if x[0].date() == date]\n",
    "       result.append((date, max(entries)-min(entries)))\n",
    "   return result\n",
    "\n",
    "def station_weekly_by_station_name(station_name):\n",
    "    entries_per_day = entries_per_day_func_2(station_id)\n",
    "    dates = []\n",
    "    entries = []\n",
    "    for x in sorted(entries_per_day):\n",
    "        dates.append(x[0])\n",
    "    for x in sorted(entries_per_day):\n",
    "        entries.append(x[-1])\n",
    "    \n",
    "    print zip(dates,entries)\n",
    "    plt.figure(figsize=(10,5))\n",
    "    plt.plot(dates,entries)"
   ]
  },
  {
   "cell_type": "code",
   "execution_count": 412,
   "metadata": {
    "collapsed": false
   },
   "outputs": [],
   "source": [
    "station_list = []\n",
    "for k, v in summed_dict.items():\n",
    "    station_list.append((k,v))"
   ]
  },
  {
   "cell_type": "code",
   "execution_count": 415,
   "metadata": {
    "collapsed": false
   },
   "outputs": [
    {
     "data": {
      "text/plain": [
       "372"
      ]
     },
     "execution_count": 415,
     "metadata": {},
     "output_type": "execute_result"
    }
   ],
   "source": [
    "len(summed_dict.keys())"
   ]
  },
  {
   "cell_type": "code",
   "execution_count": 416,
   "metadata": {
    "collapsed": false
   },
   "outputs": [
    {
     "data": {
      "text/plain": [
       "192799"
      ]
     },
     "execution_count": 416,
     "metadata": {},
     "output_type": "execute_result"
    }
   ],
   "source": [
    "summed_dict['CANAL ST']"
   ]
  },
  {
   "cell_type": "code",
   "execution_count": null,
   "metadata": {
    "collapsed": true
   },
   "outputs": [],
   "source": []
  }
 ],
 "metadata": {
  "kernelspec": {
   "display_name": "Python 2",
   "language": "python",
   "name": "python2"
  },
  "language_info": {
   "codemirror_mode": {
    "name": "ipython",
    "version": 2
   },
   "file_extension": ".py",
   "mimetype": "text/x-python",
   "name": "python",
   "nbconvert_exporter": "python",
   "pygments_lexer": "ipython2",
   "version": "2.7.11"
  }
 },
 "nbformat": 4,
 "nbformat_minor": 0
}
